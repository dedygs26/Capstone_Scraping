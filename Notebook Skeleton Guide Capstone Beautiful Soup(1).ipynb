{
 "cells": [
  {
   "cell_type": "markdown",
   "metadata": {},
   "source": [
    "# Capstone Webscrapping using BeautifulSoup\n",
    "\n",
    "This notebook contains guidances & tasks on the data processing for the application\n",
    "\n",
    "(Please insert the background here )\n",
    "\n",
    "\n",
    "## Requesting the Data and Creating a BeautifulSoup\n",
    "\n",
    "Let's begin with requesting the web from the site with `get` method."
   ]
  },
  {
   "cell_type": "code",
   "execution_count": 37,
   "metadata": {
    "ExecuteTime": {
     "end_time": "2020-01-13T05:12:23.275508Z",
     "start_time": "2020-01-13T05:12:20.009898Z"
    }
   },
   "outputs": [],
   "source": [
    "import requests\n",
    "import re\n",
    "import numpy as np\n",
    "import matplotlib.pyplot as plt\n",
    "import seaborn as sns\n",
    "url_get = requests.get('https://www.imdb.com/search/title/?release_date=2020-01-01,2020-12-31')"
   ]
  },
  {
   "cell_type": "markdown",
   "metadata": {},
   "source": [
    "To visualize what exactly you get from the `request.get`, we can use .content so ee what we exactly get, in here i slice it so it won't make our screen full of the html we get from the page. You can delete the slicing if you want to see what we fully get."
   ]
  },
  {
   "cell_type": "code",
   "execution_count": 2,
   "metadata": {
    "ExecuteTime": {
     "end_time": "2020-01-13T05:12:23.290648Z",
     "start_time": "2020-01-13T05:12:23.277650Z"
    }
   },
   "outputs": [
    {
     "data": {
      "text/plain": [
       "b'\\n<!DOCTYPE html>\\n<html\\n    xmlns:og=\"http://ogp.me/ns#\"\\n    xmlns:fb=\"http://www.facebook.com/2008/fbml\">\\n    <head>\\n         \\n        <meta charset=\"utf-8\">\\n        <meta http-equiv=\"X-UA-Compatible\" content=\"IE=edge\">\\n\\n    <meta name=\"apple-itunes-app\" content=\"app-id=342792525, app-argument=imdb:///?src=mdot\">\\n\\n\\n\\n        <script type=\"text/javascript\">var IMDbTimer={starttime: new Date().getTime(),pt:\\'java\\'};</script>\\n\\n<script>\\n    if (typeof uet == \\'function\\') {\\n      uet(\"bb\", \"LoadTitle\", {wb: 1});\\n    }\\n</script>\\n  <script>(function(t){ (t.events = t.events || {})[\"csm_head_pre_title\"] = new Date().getTime(); })(IMDbTimer);</script>\\n        <title>Released between 2020-01-01 and 2020-12-31\\n(Sorted by Popularity Ascending) - IMDb</title>\\n  <script>(function(t)'"
      ]
     },
     "execution_count": 2,
     "metadata": {},
     "output_type": "execute_result"
    }
   ],
   "source": [
    "url_get.content[1:777]"
   ]
  },
  {
   "cell_type": "markdown",
   "metadata": {},
   "source": [
    "As we can see we get a very unstructured and complex html, which actually contains the codes needed to show the webpages on your web browser. But we as human still confused what and where we can use that piece of code, so here where we use the beautifulsoup. Beautiful soup class will result a beautifulsoup object. Beautiful Soup transforms a complex HTML document into a complex tree of Python objects. \n",
    "\n",
    "Let's make Beautiful soup object and feel free to explore the object here."
   ]
  },
  {
   "cell_type": "code",
   "execution_count": 3,
   "metadata": {
    "ExecuteTime": {
     "end_time": "2020-01-13T05:12:23.808122Z",
     "start_time": "2020-01-13T05:12:23.292610Z"
    }
   },
   "outputs": [
    {
     "name": "stdout",
     "output_type": "stream",
     "text": [
      "<class 'bs4.BeautifulSoup'>\n"
     ]
    }
   ],
   "source": [
    "from bs4 import BeautifulSoup \n",
    "\n",
    "soup = BeautifulSoup(url_get.content,\"html.parser\")\n",
    "print(type(soup))"
   ]
  },
  {
   "cell_type": "markdown",
   "metadata": {},
   "source": [
    "## Finding the right key to scrap the data & Extracting the right information"
   ]
  },
  {
   "cell_type": "markdown",
   "metadata": {},
   "source": [
    "Find the key and put the key into the `.find()` Put all the exploring the right key at this cell. (please change this markdown with your explanation)"
   ]
  },
  {
   "cell_type": "code",
   "execution_count": 4,
   "metadata": {
    "ExecuteTime": {
     "end_time": "2020-01-13T05:12:23.878904Z",
     "start_time": "2020-01-13T05:12:23.854974Z"
    }
   },
   "outputs": [
    {
     "name": "stdout",
     "output_type": "stream",
     "text": [
      "div class=\"lister-item mode-advanced\">\n",
      " <div class=\"lister-top-right\">\n",
      "  <div class=\"ribbonize\" data-caller=\"filmosearch\" data-tconst=\"tt10272386\">\n",
      "  </div>\n",
      " </div>\n",
      " <div class=\"lister-item-image float-left\">\n",
      "  <a href=\"/title/tt10272386/\">\n",
      "   <img alt=\"The Father\" class=\"loadlate\" data-tconst=\"tt10272386\" height=\"98\" loadlate=\"https://m.media-amazon.com/images/M/MV5BZGJhNWRiOWQtMjI4OS00ZjcxLTgwMTAtMzQ2ODkxY2JkOTVlXkEyXkFqcGdeQXVyMTkxNjUyNQ@@._V1_UX67_CR0,0,67,98_AL_.jpg\" src=\"https://m.media-a\n"
     ]
    }
   ],
   "source": [
    "table = soup.find('div', class_='lister-item mode-advanced')\n",
    "print(table.prettify()[1:500])\n",
    "#tr = table.find_all('div', attrs={'lister-item mode-advanced'})"
   ]
  },
  {
   "cell_type": "markdown",
   "metadata": {},
   "source": [
    "Do the scrapping process here (please change this markdown with your explanation)"
   ]
  },
  {
   "cell_type": "code",
   "execution_count": 19,
   "metadata": {
    "ExecuteTime": {
     "end_time": "2020-01-13T05:12:24.008256Z",
     "start_time": "2020-01-13T05:12:23.980358Z"
    }
   },
   "outputs": [],
   "source": [
    "temp = [] #initiating a tuple\n",
    "page = requests.get('https://www.imdb.com/search/title/?release_date=2020-01-01,2020-12-31&start=1&ref_=adv_nxt')\n",
    "\n",
    "table = soup.find_all('div', class_='lister-item mode-advanced')\n",
    "for ia in table:\n",
    "        #title\n",
    "        title = ia.find('h3',class_='lister-item-header').find('a',href=True).text\n",
    "        #print(title)\n",
    "\n",
    "        # year\n",
    "        year = ia.find('span',class_='lister-item-year text-muted unbold').text\n",
    "        #print(year)\n",
    "\n",
    "        # imdb_rat\n",
    "        imdb = ia.find('div',class_=\"inline-block ratings-imdb-rating\").strong.text\n",
    "        #print(imdb)\n",
    "\n",
    "        if ia.find('div',class_=\"inline-block ratings-metascore\") is None:\n",
    "            metascores=ia.find('div',class_=\"inline-block ratings-metascore\")\n",
    "        else :\n",
    "            metascores=ia.find('div',class_=\"inline-block ratings-metascore\").span.text\n",
    "        #print(metascores)\n",
    "\n",
    "        # votes\n",
    "        votes = ia.find('p',class_='sort-num_votes-visible').text.split()[1]\n",
    "        #print(votes)\n",
    "        \n",
    "        # duration\n",
    "        if ia.find('p', class_=\"text-muted\").find(class_=\"runtime\") is None:\n",
    "           duration = ia.find('p', class_=\"text-muted\").find(class_=\"runtime\")\n",
    "        else:\n",
    "           duration = ia.find('p', class_=\"text-muted\").find(class_=\"runtime\").text\n",
    "        #print(duration)\n",
    "        \n",
    "        # genre\n",
    "        genre = ia.find('span',class_='genre').text.strip()\n",
    "        #print(genre)\n",
    "\n",
    "        temp.append((title,year,imdb,metascores,votes,duration,genre))"
   ]
  },
  {
   "cell_type": "code",
   "execution_count": 20,
   "metadata": {},
   "outputs": [],
   "source": [
    "from bs4 import BeautifulSoup \n",
    "import re \n",
    "\n",
    "# function to extract director and stars\n",
    "def extract_director_star(text):\n",
    "    split_result = re.sub(\"Director:|Stars:||\\n|\\s{2}\", '', text).split('|')\n",
    "    if len(split_result) == 2 :# ada director\n",
    "        director = split_result[0]\n",
    "    else: # tidak ada director\n",
    "        director = None \n",
    "\n",
    "    star = split_result[-1]\n",
    "    return director, star \n",
    "\n",
    "# get soup object \n",
    "url = 'https://www.imdb.com/search/title/?release_date=2020-01-01,2020-12-31&start=1&ref_=adv_nxt'\n",
    "url_get = requests.get(url)\n",
    "soup = BeautifulSoup(url_get.content,\"html.parser\")\n",
    "\n",
    "# get all director and stars elements\n",
    "director_stars = soup.find_all('p', {'class':''})\n",
    "directors, stars = list(zip(*[extract_director_star(element.text) for element in director_stars]))\n",
    "\n",
    "import pandas as pd \n",
    "# transform list object into dataframe\n",
    "df_star_director = pd.DataFrame([stars, directors], index=['star', 'director']).T"
   ]
  },
  {
   "cell_type": "markdown",
   "metadata": {},
   "source": [
    "## Creating data frame & Data wrangling"
   ]
  },
  {
   "cell_type": "markdown",
   "metadata": {},
   "source": [
    "Put the array into dataframe"
   ]
  },
  {
   "cell_type": "code",
   "execution_count": 21,
   "metadata": {
    "ExecuteTime": {
     "end_time": "2020-01-13T05:12:41.517372Z",
     "start_time": "2020-01-13T05:12:29.130015Z"
    },
    "scrolled": true
   },
   "outputs": [
    {
     "data": {
      "text/html": [
       "<div>\n",
       "<style scoped>\n",
       "    .dataframe tbody tr th:only-of-type {\n",
       "        vertical-align: middle;\n",
       "    }\n",
       "\n",
       "    .dataframe tbody tr th {\n",
       "        vertical-align: top;\n",
       "    }\n",
       "\n",
       "    .dataframe thead th {\n",
       "        text-align: right;\n",
       "    }\n",
       "</style>\n",
       "<table border=\"1\" class=\"dataframe\">\n",
       "  <thead>\n",
       "    <tr style=\"text-align: right;\">\n",
       "      <th></th>\n",
       "      <th>title</th>\n",
       "      <th>year</th>\n",
       "      <th>imdb</th>\n",
       "      <th>meta</th>\n",
       "      <th>votes</th>\n",
       "      <th>duration</th>\n",
       "      <th>genre</th>\n",
       "    </tr>\n",
       "  </thead>\n",
       "  <tbody>\n",
       "    <tr>\n",
       "      <th>0</th>\n",
       "      <td>The Father</td>\n",
       "      <td>(I) (2020)</td>\n",
       "      <td>8.3</td>\n",
       "      <td>88</td>\n",
       "      <td>23,967</td>\n",
       "      <td>97 min</td>\n",
       "      <td>Drama</td>\n",
       "    </tr>\n",
       "    <tr>\n",
       "      <th>1</th>\n",
       "      <td>Snowpiercer</td>\n",
       "      <td>(2020– )</td>\n",
       "      <td>6.9</td>\n",
       "      <td>None</td>\n",
       "      <td>34,381</td>\n",
       "      <td>60 min</td>\n",
       "      <td>Action, Drama, Sci-Fi</td>\n",
       "    </tr>\n",
       "    <tr>\n",
       "      <th>2</th>\n",
       "      <td>Promising Young Woman</td>\n",
       "      <td>(2020)</td>\n",
       "      <td>7.5</td>\n",
       "      <td>72</td>\n",
       "      <td>65,303</td>\n",
       "      <td>113 min</td>\n",
       "      <td>Crime, Drama, Thriller</td>\n",
       "    </tr>\n",
       "    <tr>\n",
       "      <th>3</th>\n",
       "      <td>Wonder Woman 1984</td>\n",
       "      <td>(2020)</td>\n",
       "      <td>5.4</td>\n",
       "      <td>60</td>\n",
       "      <td>188,720</td>\n",
       "      <td>151 min</td>\n",
       "      <td>Action, Adventure, Fantasy</td>\n",
       "    </tr>\n",
       "    <tr>\n",
       "      <th>4</th>\n",
       "      <td>Nomadland</td>\n",
       "      <td>(2020)</td>\n",
       "      <td>7.5</td>\n",
       "      <td>93</td>\n",
       "      <td>49,813</td>\n",
       "      <td>107 min</td>\n",
       "      <td>Drama</td>\n",
       "    </tr>\n",
       "  </tbody>\n",
       "</table>\n",
       "</div>"
      ],
      "text/plain": [
       "                   title        year imdb        meta    votes duration  \\\n",
       "0             The Father  (I) (2020)  8.3  88           23,967   97 min   \n",
       "1            Snowpiercer    (2020– )  6.9        None   34,381   60 min   \n",
       "2  Promising Young Woman      (2020)  7.5  72           65,303  113 min   \n",
       "3      Wonder Woman 1984      (2020)  5.4  60          188,720  151 min   \n",
       "4              Nomadland      (2020)  7.5  93           49,813  107 min   \n",
       "\n",
       "                        genre  \n",
       "0                       Drama  \n",
       "1       Action, Drama, Sci-Fi  \n",
       "2      Crime, Drama, Thriller  \n",
       "3  Action, Adventure, Fantasy  \n",
       "4                       Drama  "
      ]
     },
     "execution_count": 21,
     "metadata": {},
     "output_type": "execute_result"
    }
   ],
   "source": [
    "import pandas as pd\n",
    "\n",
    "df = pd.DataFrame(temp,columns=('title','year','imdb','meta','votes','duration','genre'))\n",
    "df['title']=df['title'].drop_duplicates()\n",
    "df.dropna(how='any')\n",
    "df.head(5)"
   ]
  },
  {
   "cell_type": "code",
   "execution_count": 22,
   "metadata": {},
   "outputs": [
    {
     "data": {
      "text/html": [
       "<div>\n",
       "<style scoped>\n",
       "    .dataframe tbody tr th:only-of-type {\n",
       "        vertical-align: middle;\n",
       "    }\n",
       "\n",
       "    .dataframe tbody tr th {\n",
       "        vertical-align: top;\n",
       "    }\n",
       "\n",
       "    .dataframe thead th {\n",
       "        text-align: right;\n",
       "    }\n",
       "</style>\n",
       "<table border=\"1\" class=\"dataframe\">\n",
       "  <thead>\n",
       "    <tr style=\"text-align: right;\">\n",
       "      <th></th>\n",
       "      <th>title</th>\n",
       "      <th>year</th>\n",
       "      <th>imdb</th>\n",
       "      <th>meta</th>\n",
       "      <th>votes</th>\n",
       "      <th>duration</th>\n",
       "      <th>genre</th>\n",
       "      <th>star</th>\n",
       "      <th>director</th>\n",
       "    </tr>\n",
       "  </thead>\n",
       "  <tbody>\n",
       "    <tr>\n",
       "      <th>0</th>\n",
       "      <td>The Father</td>\n",
       "      <td>(I) (2020)</td>\n",
       "      <td>8.3</td>\n",
       "      <td>88</td>\n",
       "      <td>23,967</td>\n",
       "      <td>97 min</td>\n",
       "      <td>Drama</td>\n",
       "      <td>Anthony Hopkins,Olivia Colman,Mark Gatiss,Oliv...</td>\n",
       "      <td>Florian Zeller</td>\n",
       "    </tr>\n",
       "    <tr>\n",
       "      <th>1</th>\n",
       "      <td>Snowpiercer</td>\n",
       "      <td>(2020– )</td>\n",
       "      <td>6.9</td>\n",
       "      <td>None</td>\n",
       "      <td>34,381</td>\n",
       "      <td>60 min</td>\n",
       "      <td>Action, Drama, Sci-Fi</td>\n",
       "      <td>Daveed Diggs,Iddo Goldberg,Mickey Sumner,Aliso...</td>\n",
       "      <td>None</td>\n",
       "    </tr>\n",
       "    <tr>\n",
       "      <th>2</th>\n",
       "      <td>Promising Young Woman</td>\n",
       "      <td>(2020)</td>\n",
       "      <td>7.5</td>\n",
       "      <td>72</td>\n",
       "      <td>65,303</td>\n",
       "      <td>113 min</td>\n",
       "      <td>Crime, Drama, Thriller</td>\n",
       "      <td>Carey Mulligan,Bo Burnham,Alison Brie,Clancy B...</td>\n",
       "      <td>Emerald Fennell</td>\n",
       "    </tr>\n",
       "    <tr>\n",
       "      <th>3</th>\n",
       "      <td>Wonder Woman 1984</td>\n",
       "      <td>(2020)</td>\n",
       "      <td>5.4</td>\n",
       "      <td>60</td>\n",
       "      <td>188,720</td>\n",
       "      <td>151 min</td>\n",
       "      <td>Action, Adventure, Fantasy</td>\n",
       "      <td>Gal Gadot,Chris Pine,Kristen Wiig,Pedro Pascal</td>\n",
       "      <td>Patty Jenkins</td>\n",
       "    </tr>\n",
       "    <tr>\n",
       "      <th>4</th>\n",
       "      <td>Nomadland</td>\n",
       "      <td>(2020)</td>\n",
       "      <td>7.5</td>\n",
       "      <td>93</td>\n",
       "      <td>49,813</td>\n",
       "      <td>107 min</td>\n",
       "      <td>Drama</td>\n",
       "      <td>Frances McDormand,David Strathairn,Linda May,G...</td>\n",
       "      <td>Chloé Zhao</td>\n",
       "    </tr>\n",
       "  </tbody>\n",
       "</table>\n",
       "</div>"
      ],
      "text/plain": [
       "                   title        year imdb        meta    votes duration  \\\n",
       "0             The Father  (I) (2020)  8.3  88           23,967   97 min   \n",
       "1            Snowpiercer    (2020– )  6.9        None   34,381   60 min   \n",
       "2  Promising Young Woman      (2020)  7.5  72           65,303  113 min   \n",
       "3      Wonder Woman 1984      (2020)  5.4  60          188,720  151 min   \n",
       "4              Nomadland      (2020)  7.5  93           49,813  107 min   \n",
       "\n",
       "                        genre  \\\n",
       "0                       Drama   \n",
       "1       Action, Drama, Sci-Fi   \n",
       "2      Crime, Drama, Thriller   \n",
       "3  Action, Adventure, Fantasy   \n",
       "4                       Drama   \n",
       "\n",
       "                                                star         director  \n",
       "0  Anthony Hopkins,Olivia Colman,Mark Gatiss,Oliv...   Florian Zeller  \n",
       "1  Daveed Diggs,Iddo Goldberg,Mickey Sumner,Aliso...             None  \n",
       "2  Carey Mulligan,Bo Burnham,Alison Brie,Clancy B...  Emerald Fennell  \n",
       "3     Gal Gadot,Chris Pine,Kristen Wiig,Pedro Pascal    Patty Jenkins  \n",
       "4  Frances McDormand,David Strathairn,Linda May,G...       Chloé Zhao  "
      ]
     },
     "execution_count": 22,
     "metadata": {},
     "output_type": "execute_result"
    }
   ],
   "source": [
    "datas =pd.concat([df,df_star_director],axis=1)\n",
    "datas.head(5)"
   ]
  },
  {
   "cell_type": "markdown",
   "metadata": {},
   "source": [
    "Do the data cleaning here (please change this markdown with your explanation of what you do for data wrangling)"
   ]
  },
  {
   "cell_type": "markdown",
   "metadata": {},
   "source": [
    "### Implementing your webscrapping to the flask dashboard\n",
    "\n",
    "- Copy paste all of your web scrapping process to the desired position on the `app.py`\n",
    "- Changing the title of the dasboard at `index.html`"
   ]
  },
  {
   "cell_type": "markdown",
   "metadata": {},
   "source": [
    "## Finishing This Notebook with Your Analysis and Conclusion\n",
    "\n"
   ]
  },
  {
   "cell_type": "markdown",
   "metadata": {
    "ExecuteTime": {
     "end_time": "2020-01-13T05:20:56.208237Z",
     "start_time": "2020-01-13T05:20:56.076043Z"
    }
   },
   "source": [
    "7 most popular films of 2020"
   ]
  },
  {
   "cell_type": "code",
   "execution_count": 23,
   "metadata": {},
   "outputs": [],
   "source": [
    "fix_datas = datas.dropna()"
   ]
  },
  {
   "cell_type": "code",
   "execution_count": 41,
   "metadata": {
    "scrolled": true
   },
   "outputs": [
    {
     "name": "stderr",
     "output_type": "stream",
     "text": [
      "<ipython-input-41-60f15ff729bf>:1: SettingWithCopyWarning: \n",
      "A value is trying to be set on a copy of a slice from a DataFrame.\n",
      "Try using .loc[row_indexer,col_indexer] = value instead\n",
      "\n",
      "See the caveats in the documentation: https://pandas.pydata.org/pandas-docs/stable/user_guide/indexing.html#returning-a-view-versus-a-copy\n",
      "  fix_datas['duration']= fix_datas['duration'].apply(str).str.replace(\"min\",\"\")\n",
      "<ipython-input-41-60f15ff729bf>:2: SettingWithCopyWarning: \n",
      "A value is trying to be set on a copy of a slice from a DataFrame.\n",
      "Try using .loc[row_indexer,col_indexer] = value instead\n",
      "\n",
      "See the caveats in the documentation: https://pandas.pydata.org/pandas-docs/stable/user_guide/indexing.html#returning-a-view-versus-a-copy\n",
      "  fix_datas['duration']= fix_datas['duration'].astype('int64')\n",
      "<ipython-input-41-60f15ff729bf>:3: SettingWithCopyWarning: \n",
      "A value is trying to be set on a copy of a slice from a DataFrame.\n",
      "Try using .loc[row_indexer,col_indexer] = value instead\n",
      "\n",
      "See the caveats in the documentation: https://pandas.pydata.org/pandas-docs/stable/user_guide/indexing.html#returning-a-view-versus-a-copy\n",
      "  fix_datas['rank_popularity']=range(1,len(fix_datas)+1)\n",
      "<ipython-input-41-60f15ff729bf>:4: SettingWithCopyWarning: \n",
      "A value is trying to be set on a copy of a slice from a DataFrame.\n",
      "Try using .loc[row_indexer,col_indexer] = value instead\n",
      "\n",
      "See the caveats in the documentation: https://pandas.pydata.org/pandas-docs/stable/user_guide/indexing.html#returning-a-view-versus-a-copy\n",
      "  fix_datas['imdb']=fix_datas['imdb'].astype('float64')\n",
      "<ipython-input-41-60f15ff729bf>:5: SettingWithCopyWarning: \n",
      "A value is trying to be set on a copy of a slice from a DataFrame.\n",
      "Try using .loc[row_indexer,col_indexer] = value instead\n",
      "\n",
      "See the caveats in the documentation: https://pandas.pydata.org/pandas-docs/stable/user_guide/indexing.html#returning-a-view-versus-a-copy\n",
      "  fix_datas['votes']=fix_datas['votes'].apply(str).str.replace(\",\",\"\").astype('int64')\n",
      "<ipython-input-41-60f15ff729bf>:6: SettingWithCopyWarning: \n",
      "A value is trying to be set on a copy of a slice from a DataFrame.\n",
      "Try using .loc[row_indexer,col_indexer] = value instead\n",
      "\n",
      "See the caveats in the documentation: https://pandas.pydata.org/pandas-docs/stable/user_guide/indexing.html#returning-a-view-versus-a-copy\n",
      "  fix_datas['meta'] = fix_datas['meta'].fillna(0).astype('int64')\n"
     ]
    }
   ],
   "source": [
    "fix_datas['duration']= fix_datas['duration'].apply(str).str.replace(\"min\",\"\")\n",
    "fix_datas['duration']= fix_datas['duration'].astype('int64')\n",
    "fix_datas['rank_popularity']=range(1,len(fix_datas)+1)\n",
    "fix_datas['imdb']=fix_datas['imdb'].astype('float64')\n",
    "fix_datas['votes']=fix_datas['votes'].apply(str).str.replace(\",\",\"\").astype('int64')\n",
    "fix_datas['meta'] = fix_datas['meta'].fillna(0).astype('int64')"
   ]
  },
  {
   "cell_type": "code",
   "execution_count": 42,
   "metadata": {
    "scrolled": true
   },
   "outputs": [
    {
     "data": {
      "text/html": [
       "<div>\n",
       "<style scoped>\n",
       "    .dataframe tbody tr th:only-of-type {\n",
       "        vertical-align: middle;\n",
       "    }\n",
       "\n",
       "    .dataframe tbody tr th {\n",
       "        vertical-align: top;\n",
       "    }\n",
       "\n",
       "    .dataframe thead th {\n",
       "        text-align: right;\n",
       "    }\n",
       "</style>\n",
       "<table border=\"1\" class=\"dataframe\">\n",
       "  <thead>\n",
       "    <tr style=\"text-align: right;\">\n",
       "      <th></th>\n",
       "      <th>0</th>\n",
       "      <th>1</th>\n",
       "      <th>2</th>\n",
       "    </tr>\n",
       "  </thead>\n",
       "  <tbody>\n",
       "    <tr>\n",
       "      <th>0</th>\n",
       "      <td>Drama</td>\n",
       "      <td>None</td>\n",
       "      <td>None</td>\n",
       "    </tr>\n",
       "    <tr>\n",
       "      <th>2</th>\n",
       "      <td>Crime</td>\n",
       "      <td>Drama</td>\n",
       "      <td>Thriller</td>\n",
       "    </tr>\n",
       "    <tr>\n",
       "      <th>3</th>\n",
       "      <td>Action</td>\n",
       "      <td>Adventure</td>\n",
       "      <td>Fantasy</td>\n",
       "    </tr>\n",
       "    <tr>\n",
       "      <th>4</th>\n",
       "      <td>Drama</td>\n",
       "      <td>None</td>\n",
       "      <td>None</td>\n",
       "    </tr>\n",
       "    <tr>\n",
       "      <th>8</th>\n",
       "      <td>Action</td>\n",
       "      <td>Sci-Fi</td>\n",
       "      <td>Thriller</td>\n",
       "    </tr>\n",
       "  </tbody>\n",
       "</table>\n",
       "</div>"
      ],
      "text/plain": [
       "        0           1          2\n",
       "0   Drama        None       None\n",
       "2   Crime       Drama   Thriller\n",
       "3  Action   Adventure    Fantasy\n",
       "4   Drama        None       None\n",
       "8  Action      Sci-Fi   Thriller"
      ]
     },
     "execution_count": 42,
     "metadata": {},
     "output_type": "execute_result"
    }
   ],
   "source": [
    "genre = fix_datas['genre'].str.split(\",\",3,expand=True)\n",
    "genre.head()"
   ]
  },
  {
   "cell_type": "code",
   "execution_count": 43,
   "metadata": {
    "scrolled": true
   },
   "outputs": [
    {
     "name": "stderr",
     "output_type": "stream",
     "text": [
      "<ipython-input-43-50f42a297dbb>:2: SettingWithCopyWarning: \n",
      "A value is trying to be set on a copy of a slice from a DataFrame.\n",
      "Try using .loc[row_indexer,col_indexer] = value instead\n",
      "\n",
      "See the caveats in the documentation: https://pandas.pydata.org/pandas-docs/stable/user_guide/indexing.html#returning-a-view-versus-a-copy\n",
      "  fix_datas['genre_1']=genre[0]\n",
      "<ipython-input-43-50f42a297dbb>:3: SettingWithCopyWarning: \n",
      "A value is trying to be set on a copy of a slice from a DataFrame.\n",
      "Try using .loc[row_indexer,col_indexer] = value instead\n",
      "\n",
      "See the caveats in the documentation: https://pandas.pydata.org/pandas-docs/stable/user_guide/indexing.html#returning-a-view-versus-a-copy\n",
      "  fix_datas['genre_2']=genre[1]\n",
      "<ipython-input-43-50f42a297dbb>:4: SettingWithCopyWarning: \n",
      "A value is trying to be set on a copy of a slice from a DataFrame.\n",
      "Try using .loc[row_indexer,col_indexer] = value instead\n",
      "\n",
      "See the caveats in the documentation: https://pandas.pydata.org/pandas-docs/stable/user_guide/indexing.html#returning-a-view-versus-a-copy\n",
      "  fix_datas['genre_3']=genre[2]\n"
     ]
    }
   ],
   "source": [
    "#for assign each genre\n",
    "fix_datas['genre_1']=genre[0]\n",
    "fix_datas['genre_2']=genre[1]\n",
    "fix_datas['genre_3']=genre[2]"
   ]
  },
  {
   "cell_type": "code",
   "execution_count": 44,
   "metadata": {},
   "outputs": [],
   "source": [
    "# kondisi kolom\n",
    "action = (fix_datas['genre_1']==\"Action\") | (fix_datas['genre_2']==\"Action\") | (fix_datas['genre_3']==\"Action\")\n",
    "drama = (fix_datas['genre_1']==\"Drama\") | (fix_datas['genre_2']==\"Drama\") | (fix_datas['genre_3']==\"Drama\")\n",
    "thriller = (fix_datas['genre_1']==\"Thriller\") | (fix_datas['genre_2']==\"Thriller\") | (fix_datas['genre_3']==\"Thriller\")"
   ]
  },
  {
   "cell_type": "code",
   "execution_count": 45,
   "metadata": {},
   "outputs": [
    {
     "name": "stderr",
     "output_type": "stream",
     "text": [
      "<ipython-input-45-4ed30c2ab8bc>:2: SettingWithCopyWarning: \n",
      "A value is trying to be set on a copy of a slice from a DataFrame.\n",
      "Try using .loc[row_indexer,col_indexer] = value instead\n",
      "\n",
      "See the caveats in the documentation: https://pandas.pydata.org/pandas-docs/stable/user_guide/indexing.html#returning-a-view-versus-a-copy\n",
      "  fix_datas['Action'] = np.where(action,'Yes','No')\n",
      "<ipython-input-45-4ed30c2ab8bc>:3: SettingWithCopyWarning: \n",
      "A value is trying to be set on a copy of a slice from a DataFrame.\n",
      "Try using .loc[row_indexer,col_indexer] = value instead\n",
      "\n",
      "See the caveats in the documentation: https://pandas.pydata.org/pandas-docs/stable/user_guide/indexing.html#returning-a-view-versus-a-copy\n",
      "  fix_datas['Drama'] = np.where(drama,'Yes','No')\n",
      "<ipython-input-45-4ed30c2ab8bc>:4: SettingWithCopyWarning: \n",
      "A value is trying to be set on a copy of a slice from a DataFrame.\n",
      "Try using .loc[row_indexer,col_indexer] = value instead\n",
      "\n",
      "See the caveats in the documentation: https://pandas.pydata.org/pandas-docs/stable/user_guide/indexing.html#returning-a-view-versus-a-copy\n",
      "  fix_datas['Thriller'] = np.where(thriller,'Yes','No')\n"
     ]
    }
   ],
   "source": [
    "#membuat kolom baru berdasarkan kondisi\n",
    "fix_datas['Action'] = np.where(action,'Yes','No')\n",
    "fix_datas['Drama'] = np.where(drama,'Yes','No')\n",
    "fix_datas['Thriller'] = np.where(thriller,'Yes','No')"
   ]
  },
  {
   "cell_type": "code",
   "execution_count": 46,
   "metadata": {},
   "outputs": [
    {
     "data": {
      "text/html": [
       "<div>\n",
       "<style scoped>\n",
       "    .dataframe tbody tr th:only-of-type {\n",
       "        vertical-align: middle;\n",
       "    }\n",
       "\n",
       "    .dataframe tbody tr th {\n",
       "        vertical-align: top;\n",
       "    }\n",
       "\n",
       "    .dataframe thead th {\n",
       "        text-align: right;\n",
       "    }\n",
       "</style>\n",
       "<table border=\"1\" class=\"dataframe\">\n",
       "  <thead>\n",
       "    <tr style=\"text-align: right;\">\n",
       "      <th></th>\n",
       "      <th>title</th>\n",
       "      <th>year</th>\n",
       "      <th>imdb</th>\n",
       "      <th>meta</th>\n",
       "      <th>votes</th>\n",
       "      <th>duration</th>\n",
       "      <th>genre</th>\n",
       "      <th>star</th>\n",
       "      <th>director</th>\n",
       "      <th>genre_1</th>\n",
       "      <th>genre_2</th>\n",
       "      <th>genre_3</th>\n",
       "      <th>Action</th>\n",
       "      <th>Drama</th>\n",
       "      <th>Thriller</th>\n",
       "      <th>rank_popularity</th>\n",
       "    </tr>\n",
       "  </thead>\n",
       "  <tbody>\n",
       "    <tr>\n",
       "      <th>0</th>\n",
       "      <td>The Father</td>\n",
       "      <td>(I) (2020)</td>\n",
       "      <td>8.3</td>\n",
       "      <td>88</td>\n",
       "      <td>23967</td>\n",
       "      <td>97</td>\n",
       "      <td>Drama</td>\n",
       "      <td>Anthony Hopkins,Olivia Colman,Mark Gatiss,Oliv...</td>\n",
       "      <td>Florian Zeller</td>\n",
       "      <td>Drama</td>\n",
       "      <td>None</td>\n",
       "      <td>None</td>\n",
       "      <td>No</td>\n",
       "      <td>Yes</td>\n",
       "      <td>No</td>\n",
       "      <td>1</td>\n",
       "    </tr>\n",
       "    <tr>\n",
       "      <th>2</th>\n",
       "      <td>Promising Young Woman</td>\n",
       "      <td>(2020)</td>\n",
       "      <td>7.5</td>\n",
       "      <td>72</td>\n",
       "      <td>65303</td>\n",
       "      <td>113</td>\n",
       "      <td>Crime, Drama, Thriller</td>\n",
       "      <td>Carey Mulligan,Bo Burnham,Alison Brie,Clancy B...</td>\n",
       "      <td>Emerald Fennell</td>\n",
       "      <td>Crime</td>\n",
       "      <td>Drama</td>\n",
       "      <td>Thriller</td>\n",
       "      <td>No</td>\n",
       "      <td>No</td>\n",
       "      <td>No</td>\n",
       "      <td>2</td>\n",
       "    </tr>\n",
       "    <tr>\n",
       "      <th>3</th>\n",
       "      <td>Wonder Woman 1984</td>\n",
       "      <td>(2020)</td>\n",
       "      <td>5.4</td>\n",
       "      <td>60</td>\n",
       "      <td>188720</td>\n",
       "      <td>151</td>\n",
       "      <td>Action, Adventure, Fantasy</td>\n",
       "      <td>Gal Gadot,Chris Pine,Kristen Wiig,Pedro Pascal</td>\n",
       "      <td>Patty Jenkins</td>\n",
       "      <td>Action</td>\n",
       "      <td>Adventure</td>\n",
       "      <td>Fantasy</td>\n",
       "      <td>Yes</td>\n",
       "      <td>No</td>\n",
       "      <td>No</td>\n",
       "      <td>3</td>\n",
       "    </tr>\n",
       "    <tr>\n",
       "      <th>4</th>\n",
       "      <td>Nomadland</td>\n",
       "      <td>(2020)</td>\n",
       "      <td>7.5</td>\n",
       "      <td>93</td>\n",
       "      <td>49813</td>\n",
       "      <td>107</td>\n",
       "      <td>Drama</td>\n",
       "      <td>Frances McDormand,David Strathairn,Linda May,G...</td>\n",
       "      <td>Chloé Zhao</td>\n",
       "      <td>Drama</td>\n",
       "      <td>None</td>\n",
       "      <td>None</td>\n",
       "      <td>No</td>\n",
       "      <td>Yes</td>\n",
       "      <td>No</td>\n",
       "      <td>4</td>\n",
       "    </tr>\n",
       "    <tr>\n",
       "      <th>8</th>\n",
       "      <td>Tenet</td>\n",
       "      <td>(2020)</td>\n",
       "      <td>7.5</td>\n",
       "      <td>69</td>\n",
       "      <td>326424</td>\n",
       "      <td>150</td>\n",
       "      <td>Action, Sci-Fi, Thriller</td>\n",
       "      <td>John David Washington,Robert Pattinson,Elizabe...</td>\n",
       "      <td>Christopher Nolan</td>\n",
       "      <td>Action</td>\n",
       "      <td>Sci-Fi</td>\n",
       "      <td>Thriller</td>\n",
       "      <td>Yes</td>\n",
       "      <td>No</td>\n",
       "      <td>No</td>\n",
       "      <td>5</td>\n",
       "    </tr>\n",
       "  </tbody>\n",
       "</table>\n",
       "</div>"
      ],
      "text/plain": [
       "                   title        year  imdb  meta   votes  duration  \\\n",
       "0             The Father  (I) (2020)   8.3    88   23967        97   \n",
       "2  Promising Young Woman      (2020)   7.5    72   65303       113   \n",
       "3      Wonder Woman 1984      (2020)   5.4    60  188720       151   \n",
       "4              Nomadland      (2020)   7.5    93   49813       107   \n",
       "8                  Tenet      (2020)   7.5    69  326424       150   \n",
       "\n",
       "                        genre  \\\n",
       "0                       Drama   \n",
       "2      Crime, Drama, Thriller   \n",
       "3  Action, Adventure, Fantasy   \n",
       "4                       Drama   \n",
       "8    Action, Sci-Fi, Thriller   \n",
       "\n",
       "                                                star           director  \\\n",
       "0  Anthony Hopkins,Olivia Colman,Mark Gatiss,Oliv...     Florian Zeller   \n",
       "2  Carey Mulligan,Bo Burnham,Alison Brie,Clancy B...    Emerald Fennell   \n",
       "3     Gal Gadot,Chris Pine,Kristen Wiig,Pedro Pascal      Patty Jenkins   \n",
       "4  Frances McDormand,David Strathairn,Linda May,G...         Chloé Zhao   \n",
       "8  John David Washington,Robert Pattinson,Elizabe...  Christopher Nolan   \n",
       "\n",
       "  genre_1     genre_2    genre_3 Action Drama Thriller  rank_popularity  \n",
       "0   Drama        None       None     No   Yes       No                1  \n",
       "2   Crime       Drama   Thriller     No    No       No                2  \n",
       "3  Action   Adventure    Fantasy    Yes    No       No                3  \n",
       "4   Drama        None       None     No   Yes       No                4  \n",
       "8  Action      Sci-Fi   Thriller    Yes    No       No                5  "
      ]
     },
     "execution_count": 46,
     "metadata": {},
     "output_type": "execute_result"
    }
   ],
   "source": [
    "fix_datas.head()"
   ]
  },
  {
   "cell_type": "markdown",
   "metadata": {},
   "source": [
    "\n",
    "(Analisi Hubungan antara rating imdb dengan votes dan durasi film.)"
   ]
  },
  {
   "cell_type": "code",
   "execution_count": 47,
   "metadata": {
    "scrolled": true
   },
   "outputs": [
    {
     "data": {
      "text/plain": [
       "[<matplotlib.lines.Line2D at 0x1e10c80b5b0>]"
      ]
     },
     "execution_count": 47,
     "metadata": {},
     "output_type": "execute_result"
    },
    {
     "data": {
      "image/png": "[encoded data removed]",
      "text/plain": [
       "<Figure size 576x360 with 1 Axes>"
      ]
     },
     "metadata": {
      "needs_background": "light"
     },
     "output_type": "display_data"
    }
   ],
   "source": [
    "fig_dims = (8, 5)\n",
    "fig, ax = plt.subplots(figsize=fig_dims)\n",
    "m, b = np.polyfit(fix_datas['votes'],fix_datas['imdb'],1)\n",
    "sns.scatterplot(data=fix_datas, x='votes', y='imdb',s=80, ax=ax, color='green')\n",
    "plt.plot(fix_datas['votes'],m*fix_datas['votes']+b)"
   ]
  },
  {
   "cell_type": "markdown",
   "metadata": {},
   "source": [
    "hubgungan antara votes imbd menunjukan adanya hubungan bahwa votes memiliki pengaruh terhadap imbdb"
   ]
  },
  {
   "cell_type": "code",
   "execution_count": 48,
   "metadata": {},
   "outputs": [
    {
     "data": {
      "text/plain": [
       "[<matplotlib.lines.Line2D at 0x1e10c0ab670>]"
      ]
     },
     "execution_count": 48,
     "metadata": {},
     "output_type": "execute_result"
    },
    {
     "data": {
      "image/png": "[encoded data removed]",
      "text/plain": [
       "<Figure size 576x360 with 1 Axes>"
      ]
     },
     "metadata": {
      "needs_background": "light"
     },
     "output_type": "display_data"
    }
   ],
   "source": [
    "fig_dims = (8, 5)\n",
    "fig, ax = plt.subplots(figsize=fig_dims)\n",
    "m, b = np.polyfit(fix_datas['rank_popularity'],fix_datas['votes'],1)\n",
    "sns.scatterplot(data=fix_datas, x='rank_popularity', y='votes',s=80, ax=ax, color='green')\n",
    "plt.plot(fix_datas['rank_popularity'],m*fix_datas['rank_popularity']+b)"
   ]
  },
  {
   "cell_type": "markdown",
   "metadata": {},
   "source": [
    "Berdasarkan popularitas peringkat dan total votes, ini juga mencerminkan sedikit hubungan bahwa votes yang lebih tinggi akan meningkatkan popularitas film"
   ]
  },
  {
   "cell_type": "code",
   "execution_count": 56,
   "metadata": {
    "scrolled": true
   },
   "outputs": [
    {
     "data": {
      "text/plain": [
       "[<matplotlib.lines.Line2D at 0x1e10c6ca4c0>]"
      ]
     },
     "execution_count": 56,
     "metadata": {},
     "output_type": "execute_result"
    },
    {
     "data": {
      "image/png": "[encoded data removed]",
      "text/plain": [
       "<Figure size 576x360 with 1 Axes>"
      ]
     },
     "metadata": {
      "needs_background": "light"
     },
     "output_type": "display_data"
    }
   ],
   "source": [
    "fig_dims = (8, 5)\n",
    "fig, ax = plt.subplots(figsize=fig_dims)\n",
    "m, b = np.polyfit(fix_datas['rank_popularity'],fix_datas['imdb'],1)\n",
    "sns.scatterplot(data=fix_datas, x='rank_popularity', y='imdb',s=80, ax=ax, color='green')\n",
    "plt.plot(fix_datas['rank_popularity'],m*fix_datas['rank_popularity']+b)"
   ]
  },
  {
   "cell_type": "code",
   "execution_count": 51,
   "metadata": {},
   "outputs": [
    {
     "data": {
      "text/plain": [
       "[<matplotlib.lines.Line2D at 0x1e10c91a2e0>]"
      ]
     },
     "execution_count": 51,
     "metadata": {},
     "output_type": "execute_result"
    }
   ],
   "source": [
    "wlwlwl"
   ]
  },
  {
   "cell_type": "markdown",
   "metadata": {},
   "source": [
    "Kemudian jika kita mengurutkan berdasarkan peringkat popularitas dari IMDb, itu juga mencerminkan sedikit hubungan bahwa peringkat IMDb yang lebih tinggi akan meningkatkan popularitas film"
   ]
  },
  {
   "cell_type": "markdown",
   "metadata": {},
   "source": [
    "### Extra Challange\n",
    "\n",
    "This will be not included to the scoring. \n",
    "\n",
    "- You can create additional analysis from the data.\n",
    "- Implement it to the dashboard with at `app.py` dan `index.html`."
   ]
  }
 ],
 "metadata": {
  "kernelspec": {
   "display_name": "Dscrap",
   "language": "python",
   "name": "dscrap"
  },
  "language_info": {
   "codemirror_mode": {
    "name": "ipython",
    "version": 3
   },
   "file_extension": ".py",
   "mimetype": "text/x-python",
   "name": "python",
   "nbconvert_exporter": "python",
   "pygments_lexer": "ipython3",
   "version": "3.8.0"
  },
  "toc": {
   "base_numbering": 1,
   "nav_menu": {},
   "number_sections": true,
   "sideBar": true,
   "skip_h1_title": false,
   "title_cell": "Table of Contents",
   "title_sidebar": "Contents",
   "toc_cell": false,
   "toc_position": {},
   "toc_section_display": true,
   "toc_window_display": false
  }
 },
 "nbformat": 4,
 "nbformat_minor": 2
}
